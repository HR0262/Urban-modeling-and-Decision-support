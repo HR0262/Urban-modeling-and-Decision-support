{
  "cells": [
    {
      "cell_type": "markdown",
      "id": "781c92ba-9fcd-432b-b7df-013f7cfa8ca2",
      "metadata": {
        "id": "781c92ba-9fcd-432b-b7df-013f7cfa8ca2"
      },
      "source": [
        "## Python Environment\n",
        "Run the cells below to make sure that you are in correct python environment to run the project.\n",
        "\n",
        "*Required*\n",
        "- **Python 3.9.***\n",
        "- **Conda ENV - Urban**"
      ]
    },
    {
      "cell_type": "code",
      "execution_count": 9,
      "id": "1e5a09f7-7d10-4e4f-ac72-3320df24be32",
      "metadata": {
        "colab": {
          "base_uri": "https://localhost:8080/",
          "height": 329
        },
        "id": "1e5a09f7-7d10-4e4f-ac72-3320df24be32",
        "outputId": "571721c1-65d4-4044-9e25-b5167822c99d"
      },
      "outputs": [
        {
          "output_type": "stream",
          "name": "stdout",
          "text": [
            "Python 3.10.12\n"
          ]
        },
        {
          "output_type": "error",
          "ename": "KeyError",
          "evalue": "'CONDA_DEFAULT_ENV'",
          "traceback": [
            "\u001b[0;31m---------------------------------------------------------------------------\u001b[0m",
            "\u001b[0;31mKeyError\u001b[0m                                  Traceback (most recent call last)",
            "\u001b[0;32m<ipython-input-9-c454354cbab6>\u001b[0m in \u001b[0;36m<cell line: 3>\u001b[0;34m()\u001b[0m\n\u001b[1;32m      1\u001b[0m \u001b[0mget_ipython\u001b[0m\u001b[0;34m(\u001b[0m\u001b[0;34m)\u001b[0m\u001b[0;34m.\u001b[0m\u001b[0msystem\u001b[0m\u001b[0;34m(\u001b[0m\u001b[0;34m'python -V'\u001b[0m\u001b[0;34m)\u001b[0m\u001b[0;34m\u001b[0m\u001b[0;34m\u001b[0m\u001b[0m\n\u001b[1;32m      2\u001b[0m \u001b[0;32mimport\u001b[0m \u001b[0mos\u001b[0m\u001b[0;34m\u001b[0m\u001b[0;34m\u001b[0m\u001b[0m\n\u001b[0;32m----> 3\u001b[0;31m \u001b[0mprint\u001b[0m\u001b[0;34m(\u001b[0m\u001b[0;34m\"Conda ENV - \"\u001b[0m\u001b[0;34m,\u001b[0m \u001b[0mos\u001b[0m\u001b[0;34m.\u001b[0m\u001b[0menviron\u001b[0m\u001b[0;34m[\u001b[0m\u001b[0;34m'CONDA_DEFAULT_ENV'\u001b[0m\u001b[0;34m]\u001b[0m\u001b[0;34m)\u001b[0m\u001b[0;34m\u001b[0m\u001b[0;34m\u001b[0m\u001b[0m\n\u001b[0m",
            "\u001b[0;32m/usr/lib/python3.10/os.py\u001b[0m in \u001b[0;36m__getitem__\u001b[0;34m(self, key)\u001b[0m\n\u001b[1;32m    678\u001b[0m         \u001b[0;32mexcept\u001b[0m \u001b[0mKeyError\u001b[0m\u001b[0;34m:\u001b[0m\u001b[0;34m\u001b[0m\u001b[0;34m\u001b[0m\u001b[0m\n\u001b[1;32m    679\u001b[0m             \u001b[0;31m# raise KeyError with the original key value\u001b[0m\u001b[0;34m\u001b[0m\u001b[0;34m\u001b[0m\u001b[0m\n\u001b[0;32m--> 680\u001b[0;31m             \u001b[0;32mraise\u001b[0m \u001b[0mKeyError\u001b[0m\u001b[0;34m(\u001b[0m\u001b[0mkey\u001b[0m\u001b[0;34m)\u001b[0m \u001b[0;32mfrom\u001b[0m \u001b[0;32mNone\u001b[0m\u001b[0;34m\u001b[0m\u001b[0;34m\u001b[0m\u001b[0m\n\u001b[0m\u001b[1;32m    681\u001b[0m         \u001b[0;32mreturn\u001b[0m \u001b[0mself\u001b[0m\u001b[0;34m.\u001b[0m\u001b[0mdecodevalue\u001b[0m\u001b[0;34m(\u001b[0m\u001b[0mvalue\u001b[0m\u001b[0;34m)\u001b[0m\u001b[0;34m\u001b[0m\u001b[0;34m\u001b[0m\u001b[0m\n\u001b[1;32m    682\u001b[0m \u001b[0;34m\u001b[0m\u001b[0m\n",
            "\u001b[0;31mKeyError\u001b[0m: 'CONDA_DEFAULT_ENV'"
          ]
        }
      ],
      "source": [
        "!python -V\n",
        "import os\n",
        "print(\"Conda ENV - \", os.environ['CONDA_DEFAULT_ENV'])"
      ]
    },
    {
      "cell_type": "markdown",
      "id": "9297c287-61d9-40e1-be88-39425535b9a6",
      "metadata": {
        "tags": [],
        "id": "9297c287-61d9-40e1-be88-39425535b9a6"
      },
      "source": [
        "## Python Libraries\n",
        "All the libraries imported are installed within the conda environment. If the library is not installed, it will show an error."
      ]
    },
    {
      "cell_type": "code",
      "source": [
        "!git clone https://github.com/HR0262/Urban-modeling-and-Decision-support.git\n",
        "\n",
        "import shutil\n",
        "import os\n",
        "# 遍历并移动 Python 文件\n",
        "for file_name in os.listdir('/content/Urban-modeling-and-Decision-support/CodeforStudent_AH2307_HT24'):\n",
        "  shutil.move(os.path.join('/content/Urban-modeling-and-Decision-support/CodeforStudent_AH2307_HT24', file_name), '/content')"
      ],
      "metadata": {
        "colab": {
          "base_uri": "https://localhost:8080/",
          "height": 0
        },
        "id": "VgcqBCTWw_TE",
        "outputId": "a8c8500e-33c9-477f-dd75-68fe1a73e9ef"
      },
      "id": "VgcqBCTWw_TE",
      "execution_count": 10,
      "outputs": [
        {
          "output_type": "stream",
          "name": "stdout",
          "text": [
            "fatal: destination path 'Urban-modeling-and-Decision-support' already exists and is not an empty directory.\n"
          ]
        }
      ]
    },
    {
      "cell_type": "code",
      "source": [
        "pip install haversine"
      ],
      "metadata": {
        "colab": {
          "base_uri": "https://localhost:8080/",
          "height": 0
        },
        "id": "YXm_K0yu4NYb",
        "outputId": "7a340ae8-7727-4b46-9328-255d9ea98637"
      },
      "id": "YXm_K0yu4NYb",
      "execution_count": 7,
      "outputs": [
        {
          "output_type": "stream",
          "name": "stdout",
          "text": [
            "Collecting haversine\n",
            "  Downloading haversine-2.8.1-py2.py3-none-any.whl.metadata (5.9 kB)\n",
            "Downloading haversine-2.8.1-py2.py3-none-any.whl (7.7 kB)\n",
            "Installing collected packages: haversine\n",
            "Successfully installed haversine-2.8.1\n"
          ]
        }
      ]
    },
    {
      "cell_type": "code",
      "execution_count": 12,
      "id": "13b130bf",
      "metadata": {
        "id": "13b130bf"
      },
      "outputs": [],
      "source": [
        "import Landuse\n",
        "#from Demand import Demand\n",
        "import Network\n",
        "import Assignment\n",
        "from Visualization import Visualize\n",
        "from Effect import Effect\n",
        "import numpy as np\n",
        "import pandas as pd"
      ]
    },
    {
      "cell_type": "markdown",
      "id": "2c807f39",
      "metadata": {
        "id": "2c807f39"
      },
      "source": [
        "## Variable setting"
      ]
    },
    {
      "cell_type": "code",
      "execution_count": 13,
      "id": "2bc91dc7",
      "metadata": {
        "id": "2bc91dc7"
      },
      "outputs": [],
      "source": [
        "######### VARIABLES ############\n",
        "fuel_cost = 12      # fuel cost 12 sek/liter\n",
        "fuel_con = 0.085    # fuel consumption is 0.085 l/km\n",
        "cost_km = fuel_cost * fuel_con\n",
        "carparking = 5      # Cost of Parking\n",
        "transitprice = 15   # Cost of Transit"
      ]
    },
    {
      "cell_type": "markdown",
      "id": "ffb08252",
      "metadata": {
        "id": "ffb08252"
      },
      "source": [
        "## Parameter setting"
      ]
    },
    {
      "cell_type": "code",
      "execution_count": 14,
      "id": "6700d4aa",
      "metadata": {
        "id": "6700d4aa"
      },
      "outputs": [],
      "source": [
        "######### PARAMETERS ############\n",
        "alpha = 0.45        # constant for car mode\n",
        "beta_car = -0.08  # parameter for car travel time\n",
        "gamma_car = -0.05   # parameter for car travel cost\n",
        "beta_inv = -0.05    # parameter for transit in-vehile travel time\n",
        "beta_wait = -0.08    # parameter for transit total waiting time\n",
        "gamma_pt = -0.05  # parameter for transit ticket price\n",
        "alpha_slow = 0.1  #parameter for slow mode\n",
        "phi_dist = -0.5    # parameter for slow mode time\n",
        "mu = 0.5            # Logsum weight\n",
        "theta = 1           # parameter for destination choice\n",
        "param = [alpha, beta_car, gamma_car, beta_inv, beta_wait, gamma_pt, alpha_slow, phi_dist, mu, theta] # to pass the parameter value to demand function as a list\n",
        "vot_car = beta_car/gamma_car        # value of time for car\n",
        "vot_in = beta_inv/gamma_pt         # value of in-vehile travel time for transit\n",
        "vot_wait = beta_wait/gamma_pt      # value of total waiting time for transit\n",
        "constant = 0.2      # alternative specific constant for owning a car\n",
        "income = 0.003      # parameter for income\n",
        "dummy = -0.5        # dummy for residency in the inner city\n",
        "param_carown = [constant, income, dummy] # to pass the parameter value to landuse function as a list"
      ]
    },
    {
      "cell_type": "markdown",
      "id": "2229de45-177f-4bba-b947-cc68ed7307a8",
      "metadata": {
        "id": "2229de45-177f-4bba-b947-cc68ed7307a8"
      },
      "source": [
        "## Import data"
      ]
    },
    {
      "cell_type": "code",
      "execution_count": null,
      "id": "7ee6ee42-6bf4-4e5e-b7ad-be96979090de",
      "metadata": {
        "id": "7ee6ee42-6bf4-4e5e-b7ad-be96979090de"
      },
      "outputs": [],
      "source": [
        "# Load landuse and zone information\n",
        "landuse, zones = Landuse.get_landuse_and_zones(param_carown)\n",
        "\n",
        "# Origin and Destination dictionary\n",
        "origin      = dict(zip(landuse.area, landuse.index))\n",
        "destination = origin.copy()\n",
        "\n",
        "# Create Graph network for car and transit\n",
        "G_car = Network.RoadNetwork(zones.transpose())\n",
        "G_pt = Network.TransitNetwork(zones.transpose())"
      ]
    },
    {
      "cell_type": "markdown",
      "id": "6111b736-3e2b-4932-b29f-334c4a2c5814",
      "metadata": {
        "id": "6111b736-3e2b-4932-b29f-334c4a2c5814"
      },
      "source": [
        "## Initialize the network"
      ]
    },
    {
      "cell_type": "code",
      "execution_count": null,
      "id": "f93916c4-14ba-48de-a597-e501f994d36d",
      "metadata": {
        "id": "f93916c4-14ba-48de-a597-e501f994d36d"
      },
      "outputs": [],
      "source": [
        "# Initialize the network\n",
        "demand = np.ones((len(landuse), len(landuse)))\n",
        "demand = np.asmatrix(demand)\n",
        "G_start_car = Assignment.RouteAssignment(np.asarray(demand), G_car, origin, destination,vot_car,cost_km)\n",
        "G_start_pt = Assignment.TransitAssignment(np.asarray(demand), G_pt, origin, destination,vot_in,vot_wait)\n",
        "diagnal_dist = np.sqrt(landuse['area_2'])/1000 # to approximate the distance of inne-zone trips\n",
        "car_time, car_cost, dist = Assignment.Skim_car(G_start_car, origin, destination, diagnal_dist)\n",
        "invt, waitt = Assignment.Skim_pt(G_start_pt, origin, destination)"
      ]
    },
    {
      "cell_type": "markdown",
      "id": "217bccaf",
      "metadata": {
        "id": "217bccaf"
      },
      "source": [
        "## Demand funtion example with fixed probability"
      ]
    },
    {
      "cell_type": "code",
      "execution_count": null,
      "id": "87cb4f76",
      "metadata": {
        "id": "87cb4f76"
      },
      "outputs": [],
      "source": [
        "def Demand_fix (car_time, car_cost, car_park, inv_time, wait_time, pt_price, dist, parameter, pop, emp, own):\n",
        "\n",
        "    # the following parameters will be used for utility functions\n",
        "    alpha = parameter[0]\n",
        "    beta_car = parameter[1]\n",
        "    gamma_car = parameter[2]\n",
        "    beta_inv = parameter[3]\n",
        "    beta_wait = parameter[4]\n",
        "    gamma_pt = parameter[5]\n",
        "    alpha_dist = parameter[6]\n",
        "    phi_dist = parameter[7]\n",
        "    mu = parameter[8]\n",
        "    theta = parameter[9]\n",
        "\n",
        "\n",
        "    pop = np.asmatrix(pop).transpose()\n",
        "    own = np.asmatrix(own).transpose()\n",
        "    emp = np.asmatrix(emp)\n",
        "\n",
        "    # assuming a fixed probability\n",
        "    Pcar = np.ones((len(pop), len(pop))) *(0.4/len(pop))\n",
        "    Ppt  = np.ones((len(pop), len(pop)))  *(0.4/len(pop))\n",
        "    Pslow= np.ones((len(pop), len(pop)))*(0.2/len(pop))\n",
        "\n",
        "    # calculating the demand\n",
        "    Vol_car  = np.multiply(pop,Pcar)\n",
        "    Vol_pt   = np.multiply(pop,Ppt)\n",
        "    Vol_slow = np.multiply(pop,Pslow)\n",
        "    EU = 0\n",
        "\n",
        "    return (Vol_car, Vol_pt, Vol_slow, EU)"
      ]
    },
    {
      "cell_type": "markdown",
      "id": "2b1bc849",
      "metadata": {
        "id": "2b1bc849"
      },
      "source": [
        "## Equilibrium"
      ]
    },
    {
      "cell_type": "code",
      "execution_count": null,
      "id": "a3298035",
      "metadata": {
        "id": "a3298035"
      },
      "outputs": [],
      "source": [
        "## Suggested Equilibrium cell (also based on the Project file)\n",
        "# calculate demand\n",
        "maxiter = 100       # maxium number of iterations in finding the equilibrium\n",
        "maxdiff = 0.01      # or if the travel time converges to the point where difference in travel time between iterations is smaller than 0.01\n",
        "for iter in range(maxiter):\n",
        "    print(\"\\n\")\n",
        "    car_time_old = car_time\n",
        "    car_cost_old = car_cost\n",
        "\n",
        "    # Here, you can change to your demand funtion\n",
        "    v_car, v_pt, v_slow, EU = Demand_fix(car_time,\n",
        "                         car_cost,\n",
        "                         carparking,\n",
        "                         invt,\n",
        "                         waitt,\n",
        "                         transitprice,\n",
        "                         dist,\n",
        "                         param,\n",
        "                         np.array(landuse['pop']),\n",
        "                         np.array(landuse['emp']),\n",
        "                         np.array(landuse['car_ownership']))\n",
        "    # assign the traffic based on the demand to get the new car time, cost, and distance\n",
        "    G_next_car = Assignment.RouteAssignment(np.asarray(v_car), G_car, origin, destination,vot_car,cost_km)\n",
        "    G_next_pt = Assignment.TransitAssignment(np.asarray(v_pt), G_pt, origin, destination,vot_in,vot_wait)\n",
        "    car_time, car_cost, car_dist = Assignment.Skim_car(G_next_car, origin, destination, diagnal_dist)\n",
        "\n",
        "    # calculate car_time values with 0.2 share of new values (from assignemet.skim_car) and\n",
        "    # 0.8 share of the old car time values\n",
        "    car_time = car_time * 0.2 + car_time_old * 0.8\n",
        "    car_cost = car_cost * 0.2 + car_cost_old * 0.8\n",
        "\n",
        "    # define the average error (e.g. 0.2) for convergence, and if it is met, make (stop = 1)\n",
        "    diff = (np.mean((np.abs(car_time-car_time_old))))\n",
        "    print(f\"Iteration: {iter}\\tDifference in travel time:{diff}\")\n",
        "    if (diff < maxdiff) or (iter>=maxiter):\n",
        "        break"
      ]
    },
    {
      "cell_type": "markdown",
      "id": "53896e14",
      "metadata": {
        "id": "53896e14"
      },
      "source": [
        "## RESULT\n",
        "The cells shows the result of the 4-step model."
      ]
    },
    {
      "cell_type": "code",
      "execution_count": null,
      "id": "03b59e6c",
      "metadata": {
        "scrolled": true,
        "id": "03b59e6c"
      },
      "outputs": [],
      "source": [
        "# output result in a table, you can specify what output might be useful\n",
        "# Hint: what is the total number of trips?\n",
        "Effect(v_car, v_pt, v_slow, dist, carparking, transitprice, EU)"
      ]
    },
    {
      "cell_type": "code",
      "execution_count": null,
      "id": "50ffe26e",
      "metadata": {
        "id": "50ffe26e"
      },
      "outputs": [],
      "source": [
        "# below the car flow and transit flow are plotted in seperate layer, you can activate/deactivate layers\n",
        "Visualize(G_next_car, G_next_pt, zones, title=\"REULST FOR 4-STEP MODEL\")"
      ]
    },
    {
      "cell_type": "markdown",
      "id": "a6e8bc3a",
      "metadata": {
        "id": "a6e8bc3a"
      },
      "source": [
        "## Task I\n",
        "The main task is to construct a nested choice model, assuming that individuals make a joint decision on the destination choice and mode choice. <br>\n",
        "\n",
        "Assume that there are three alternative modes of transport  that can be used to travel between two zones, $i$ and $j$, that the the deterministic utility for respectively mode are given by:\n",
        "\\begin{align}\n",
        "V^i_{j, \\textrm{car}} &= \\alpha_\\text{car} + \\beta_{\\textrm{car}} t^i_{j,\\text{car}} + \\gamma_{\\textrm{car}} c^i_{j,\\text{car}} \\\\%+ \\theta \\cdot \\ln(N^j_\\text{employed}) \\\\\n",
        "V^i_{j,\\textrm{pt}} &= \\beta_{\\textrm{inv}} t^i_{j,\\textrm{inv}} + \\beta_{\\textrm{wait}} t^i_{j,\\textrm{wait}} + \\gamma_{\\textrm{pt}} c^i_{j,\\text{pt}} \\\\%+ \\theta \\cdot  \\ln(N^j_\\text{employed}), \\\\\n",
        "V^i_{j, \\textrm{slow}} &= \\alpha_\\text{slow} + \\phi d^i_{j} \\\\%+  \\theta \\cdot  \\ln(N^j_\\text{employed})\n",
        "\\end{align}\n",
        "\n",
        "<br>\n",
        "$t^i_{j,\\textrm{car}} - \\text{car travel time: } \\text{tt_car}\\\\\n",
        " c^i_{j,\\text{car}} - \\text{car travel cost: } \\text{c_car: fuel cost and parking cost}\\\\\n",
        " t^i_{j,\\textrm{inv}} - \\text{pt in-vehicle travel time: } \\text{tt_inv_pt}\\\\\n",
        " t^i_{j,\\textrm{wait}} - \\text{pt waiting time: } \\text{tt_wait_tt}\\\\\n",
        " c^i_{j,\\text{pt}} - \\text{pt cost: } \\text{c_pt}\\\\\n",
        " d^i_{j} - \\text{distace} \\\\$\n",
        "<br>\n",
        "\n",
        "The deterministic utility of destination choice is formulated as\n",
        "\\begin{align}\n",
        "V_{j}=\\theta ln (N_{employed}^j)\n",
        "\\end{align}\n",
        "\n",
        "As the destination choice is assumed made at the upper level, meaning that the utility depends also on how \"easy\" to travel to the destination. The properties of the mode chice are then propagated to the destnation choice through the expected maximum utility (log-sum) of all modes:    \n",
        "\\begin{align}\n",
        "I^i_j = ln \\sum_m e^{V^i_{j,m}/ \\mu}\n",
        "\\end{align}\n",
        "multiplyed by a scale parameter $\\mu$, $\\mu I^i_j$ is the expected maximum utility of the lower nest of mode choices.\n",
        "\n",
        "The probability of choosing a destination $j$ is given by\n",
        "\\begin{align}\n",
        "P(j|i)= \\frac{e^{V^i_j+\\mu L^i_j}}{\\sum_{j'\\in J} e^{V^i_j+\\mu I^i_{j'}}}           \n",
        "\\end{align}\n",
        "\n",
        "Note that the mode choice probability need to be rewriten with the scale parameter\n",
        "\\begin{align}\n",
        "P(m|j,i)=\\frac{e^{V^i_{j,m}/ \\mu}}{\\sum_{m'\\in M} e^{V^i_{j,m'}/ \\mu}}\n",
        "\\end{align}\n",
        "\n",
        "The probability of choosing mode $m$ from origin $i$ to destination $j$ is a joint probability, the product of the marginal probability $P(j)$ and the conditional probability $P(m|j) $\n",
        "\\begin{align}\n",
        "P(j,m|i)=P(j|i)* P(m|j,i)            \n",
        "\\end{align}\n",
        "\n"
      ]
    },
    {
      "cell_type": "code",
      "execution_count": null,
      "id": "7d976ca5",
      "metadata": {
        "id": "7d976ca5"
      },
      "outputs": [],
      "source": [
        "def Demand_nestlogit (car_time, car_cost, car_park, inv_time, wait_time, pt_price, dist, parameter, pop, emp, own):\n",
        "\n",
        "    # the following parameters will be used for utility functions\n",
        "    alpha = parameter[0]\n",
        "    beta_car = parameter[1]\n",
        "    gamma_car = parameter[2]\n",
        "    beta_inv = parameter[3]\n",
        "    beta_wait = parameter[4]\n",
        "    gamma_pt = parameter[5]\n",
        "    alpha_dist = parameter[6]\n",
        "    phi_dist = parameter[7]\n",
        "    mu = parameter[8]\n",
        "    theta = parameter[9]\n",
        "\n",
        "\n",
        "    pop = np.asmatrix(pop).transpose()\n",
        "    own = np.asmatrix(own).transpose()\n",
        "    emp = np.asmatrix(emp)\n",
        "\n",
        "\n",
        "    # To input utility functions for each mode\n",
        "    Vcar  = #utitlity for car\n",
        "    Vpt   = #utitlity for pt\n",
        "    Vslow = #utitlity for slow\n",
        "    # To input the utility function for attraction\n",
        "    Vj  =\n",
        "\n",
        "\n",
        "    # To calculate the condition probability for each mode\n",
        "    # Note that the parameter mu is being used in the nested logit probabilty\n",
        "    denom  =\n",
        "    Pcar  =\n",
        "    Ppt   =\n",
        "    Pslow =\n",
        "\n",
        "    # To calculate the marginal probability for going to j from i\n",
        "    Lj    =    #Expected maximum utilities from mode choice\n",
        "    Pj    =    #marginal probability\n",
        "\n",
        "    # Hint: use print() to check if the marginal probability sum for each origin\n",
        "\n",
        "    # To calculate the joint probability\n",
        "    Pcar_j  =\n",
        "    Ppt_j  =\n",
        "    Pslow_j  =\n",
        "\n",
        "    # Hint: use print() to check if the koint probability sum for all modes and each origin\n",
        "\n",
        "\n",
        "    # calculating the demand\n",
        "    Vol_car  = np.multiply(pop,Pcar)\n",
        "    Vol_pt   = np.multiply(pop,Ppt)\n",
        "    Vol_slow = np.multiply(pop,Pslow)\n",
        "    EU = 0\n",
        "\n",
        "    return (Vol_car, Vol_pt, Vol_slow, EU)"
      ]
    },
    {
      "cell_type": "markdown",
      "id": "398db043",
      "metadata": {
        "id": "398db043"
      },
      "source": [
        "## Task II\n",
        "Now we want to divide the population into two categories: individuals who have access to a car and those who do not. For individuals with access to a car, the set of possible\n",
        "transport modes is $ \\lbrace car,pt,slow \\rbrace $. Without access to a car, the set is $\\lbrace pt,slow \\rbrace $.\n",
        "The demand is the total demand of these two groups of population. <br>\n",
        "\n",
        "The expected utility $EU$ can be used as a welfare measure when the change between two different scenarios is analysed. If cost enters the utility functions $V$, the difference in expected utility  $EU$ between two different scenarios can be translated into a monetary terms and used as a measure for consumer surplus.\n",
        "Please write the expected maximum utility from the joint decision model."
      ]
    },
    {
      "cell_type": "code",
      "execution_count": null,
      "id": "43504ed0",
      "metadata": {
        "id": "43504ed0"
      },
      "outputs": [],
      "source": [
        "def Demand (car_time, car_cost, car_park, inv_time, wait_time, pt_price, dist, parameter, pop, emp, own):\n",
        "\n",
        "    # the following parameters will be used for utility functions\n",
        "    alpha = parameter[0]\n",
        "    beta_car = parameter[1]\n",
        "    gamma_car = parameter[2]\n",
        "    beta_inv = parameter[3]\n",
        "    beta_wait = parameter[4]\n",
        "    gamma_pt = parameter[5]\n",
        "    alpha_dist = parameter[6]\n",
        "    phi_dist = parameter[7]\n",
        "    mu = parameter[8]\n",
        "    theta = parameter[9]\n",
        "\n",
        "\n",
        "    pop = np.asmatrix(pop).transpose()\n",
        "    own = np.asmatrix(own).transpose()\n",
        "    emp = np.asmatrix(emp)\n",
        "\n",
        "\n",
        "    # To input utility functions for each mode\n",
        "    # To input utility functions for each mode\n",
        "    Vcar  = #utitlity for car\n",
        "    Vpt   = #utitlity for pt\n",
        "    Vslow = #utitlity for slow\n",
        "    # To input the utility function for attraction\n",
        "    Vj  =\n",
        "\n",
        "    #With car\n",
        "    # To calculate the condition probability for each mode\n",
        "    # Note that the parameter mu is being used in the nested logit probabilty\n",
        "    denom  =\n",
        "    Pcar  =\n",
        "    Ppt   =\n",
        "    Pslow =\n",
        "\n",
        "    # To calculate the marginal probability for going to j from i\n",
        "    Lj    =   #Expected maximum utilities from mode choice\n",
        "    Pj    =    #marginal probability\n",
        "\n",
        "    # Hint: use print() to check if the marginal probability sum for each origin\n",
        "\n",
        "    # To calculate the joint probability\n",
        "    Pcar_j  =\n",
        "    Ppt_j   =\n",
        "    Pslow_j =\n",
        "\n",
        "    # Hint: use print() to check if the joint probability sum for all modes and each origin\n",
        "\n",
        "\n",
        "    # Without car\n",
        "    # To calculate the condition probability for each mode\n",
        "    # Note that the parameter mu is being used in the nested logit probabilty\n",
        "    denom_no =\n",
        "    Ppt_no   =\n",
        "    Pslow_no =\n",
        "\n",
        "    # To calculate the marginal probability for going to j from i\n",
        "    Lj_no     =    #Expected maximum utilities from mode choice\n",
        "    Pj_no    =    #marginal probability\n",
        "\n",
        "    # Hint: use print() to check if the marginal probability sum for each origin\n",
        "\n",
        "\n",
        "    # To calculate the joint probability\n",
        "    Ppt_j_no   =\n",
        "    Pslow_j_no =\n",
        "\n",
        "    # Hint: use print() to check if the koint probability sum for all modes and each origin\n",
        "\n",
        "\n",
        "\n",
        "    # calculating the travel demand, using the values in matrix 'own'\n",
        "    Vol_car  =\n",
        "    Vol_pt   =\n",
        "    Vol_slow =\n",
        "\n",
        "    # calculating the expected utility for the two groups\n",
        "    EU_yes =\n",
        "    EU_no  =\n",
        "    EU     =\n",
        "\n",
        "\n",
        "    return (Vol_car, Vol_pt, Vol_slow, EU)"
      ]
    },
    {
      "cell_type": "code",
      "execution_count": null,
      "id": "bff667c5-954d-45f3-945a-b6b1b760e682",
      "metadata": {
        "id": "bff667c5-954d-45f3-945a-b6b1b760e682"
      },
      "outputs": [],
      "source": []
    }
  ],
  "metadata": {
    "kernelspec": {
      "display_name": "Python 3 (ipykernel)",
      "language": "python",
      "name": "python3"
    },
    "language_info": {
      "codemirror_mode": {
        "name": "ipython",
        "version": 3
      },
      "file_extension": ".py",
      "mimetype": "text/x-python",
      "name": "python",
      "nbconvert_exporter": "python",
      "pygments_lexer": "ipython3",
      "version": "3.9.13"
    },
    "vscode": {
      "interpreter": {
        "hash": "a8428453dfd6b693666e0a979991e8514dc6eb8058a4caaa74aadc6e24efb895"
      }
    },
    "colab": {
      "provenance": []
    }
  },
  "nbformat": 4,
  "nbformat_minor": 5
}